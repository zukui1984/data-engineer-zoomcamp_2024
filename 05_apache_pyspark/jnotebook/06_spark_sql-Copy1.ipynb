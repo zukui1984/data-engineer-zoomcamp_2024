{
 "cells": [
  {
   "cell_type": "code",
   "execution_count": 146,
   "id": "05205d0d-bb94-40ef-9b45-28b7d4a056b0",
   "metadata": {},
   "outputs": [],
   "source": [
    "import pyspark\n",
    "from pyspark.sql import SparkSession"
   ]
  },
  {
   "cell_type": "code",
   "execution_count": 147,
   "id": "6602f444-cf60-4b30-9f8b-e9d7dd421b1e",
   "metadata": {},
   "outputs": [],
   "source": [
    "spark = SparkSession.builder \\\n",
    "    .master(\"local[*]\") \\\n",
    "    .appName('yellow_green') \\\n",
    "    .getOrCreate()"
   ]
  },
  {
   "cell_type": "code",
   "execution_count": 148,
   "id": "c0156375-2e5e-4871-8d8c-5faaabdc27f7",
   "metadata": {},
   "outputs": [],
   "source": [
    "df_green = spark.read.parquet('data/pq/green/*/*')"
   ]
  },
  {
   "cell_type": "code",
   "execution_count": 149,
   "id": "1565c8b8-aaae-48ed-a4e1-e85c15ef6383",
   "metadata": {},
   "outputs": [
    {
     "name": "stdout",
     "output_type": "stream",
     "text": [
      "+--------+--------------------+---------------------+------------------+----------+------------+------------+---------------+-------------+-----------+-----+-------+----------+------------+---------+---------------------+------------+------------+---------+--------------------+\n",
      "|VendorID|lpep_pickup_datetime|lpep_dropoff_datetime|store_and_fwd_flag|RatecodeID|PULocationID|DOLocationID|passenger_count|trip_distance|fare_amount|extra|mta_tax|tip_amount|tolls_amount|ehail_fee|improvement_surcharge|total_amount|payment_type|trip_type|congestion_surcharge|\n",
      "+--------+--------------------+---------------------+------------------+----------+------------+------------+---------------+-------------+-----------+-----+-------+----------+------------+---------+---------------------+------------+------------+---------+--------------------+\n",
      "|       2| 2020-01-11 05:05:54|  2020-01-11 05:13:49|                 N|       1.0|         129|         129|            1.0|         0.81|        6.5|  0.5|    0.5|      0.71|         0.0|     null|                  0.3|        8.51|         1.0|      1.0|                 0.0|\n",
      "|       2| 2020-01-17 20:33:05|  2020-01-17 20:51:08|                 N|       1.0|          75|          42|            3.0|         2.69|       13.5|  1.0|    0.5|      3.06|         0.0|     null|                  0.3|       18.36|         1.0|      1.0|                 0.0|\n",
      "|       2| 2020-01-30 13:41:00|  2020-01-30 14:30:00|              null|      null|         117|         188|           null|        13.11|      38.57| 2.75|    0.0|       0.0|        2.29|     null|                  0.3|       43.91|        null|     null|                null|\n",
      "|       2| 2020-01-11 22:25:44|  2020-01-11 22:40:11|                 N|       1.0|          41|         151|            1.0|         2.13|       11.0|  0.5|    0.5|       0.0|         0.0|     null|                  0.3|        12.3|         2.0|      1.0|                 0.0|\n",
      "|       2| 2020-01-04 22:45:19|  2020-01-04 22:52:57|                 N|       1.0|         129|         260|            1.0|         0.89|        6.5|  0.5|    0.5|       0.0|         0.0|     null|                  0.3|         7.8|         2.0|      1.0|                 0.0|\n",
      "|       2| 2020-01-15 20:07:07|  2020-01-15 20:12:56|                 N|       1.0|          75|          75|            1.0|         0.88|        5.5|  1.0|    0.5|      1.46|         0.0|     null|                  0.3|        8.76|         1.0|      1.0|                 0.0|\n",
      "|       2| 2020-01-11 01:01:17|  2020-01-11 01:10:14|                 N|       1.0|          66|         232|            1.0|         2.25|        9.5|  0.5|    0.5|      2.71|         0.0|     null|                  0.3|       16.26|         1.0|      1.0|                2.75|\n",
      "|       2| 2020-01-16 15:54:30|  2020-01-16 16:00:39|                 N|       1.0|         129|         129|            2.0|         0.91|        6.0|  0.0|    0.5|       0.0|         0.0|     null|                  0.3|         6.8|         2.0|      1.0|                 0.0|\n",
      "|       2| 2020-01-01 20:53:32|  2020-01-01 21:05:59|                 N|       1.0|          41|         168|            5.0|         2.69|       11.0|  0.0|    0.5|       0.0|         0.0|     null|                  0.3|        11.8|         2.0|      1.0|                 0.0|\n",
      "|       2| 2020-01-21 07:53:00|  2020-01-21 08:24:00|              null|      null|          37|          33|           null|         5.35|      30.99| 2.75|    0.0|       0.0|         0.0|     null|                  0.3|       34.04|        null|     null|                null|\n",
      "|       2| 2020-01-19 13:18:31|  2020-01-19 13:23:29|                 N|       1.0|         129|         129|            1.0|         0.58|        5.0|  0.0|    0.5|       0.0|         0.0|     null|                  0.3|         5.8|         2.0|      1.0|                 0.0|\n",
      "|       2| 2020-01-12 11:38:00|  2020-01-12 11:56:00|              null|      null|          51|          60|           null|         7.83|      27.65| 2.75|    0.0|       0.0|         0.0|     null|                  0.3|        30.7|        null|     null|                null|\n",
      "|       1| 2020-01-04 14:39:34|  2020-01-04 14:43:59|                 N|       1.0|         255|         255|            1.0|          0.5|        5.0|  0.0|    0.5|       0.0|         0.0|     null|                  0.3|         5.8|         2.0|      1.0|                 0.0|\n",
      "|       1| 2020-01-27 15:50:40|  2020-01-27 15:56:26|                 N|       1.0|          95|          95|            1.0|          0.9|        6.0|  0.0|    0.5|      1.35|         0.0|     null|                  0.3|        8.15|         1.0|      1.0|                 0.0|\n",
      "|       2| 2020-01-20 09:41:00|  2020-01-20 10:25:00|              null|      null|          86|         140|           null|        23.88|      67.67| 2.75|    0.0|       0.0|        6.12|     null|                  0.3|       76.84|        null|     null|                null|\n",
      "|       2| 2020-01-07 14:39:00|  2020-01-07 14:52:00|              null|      null|          82|          56|           null|         1.96|      15.89| 2.75|    0.0|       0.0|         0.0|     null|                  0.3|       18.94|        null|     null|                null|\n",
      "|       1| 2020-01-25 11:04:57|  2020-01-25 11:12:57|                 N|       5.0|         182|         213|            1.0|          0.0|        8.0|  0.0|    0.0|       0.0|         0.0|     null|                  0.0|         8.0|         2.0|      2.0|                 0.0|\n",
      "|       2| 2020-01-03 17:29:05|  2020-01-03 17:39:03|                 N|       1.0|           7|         223|            1.0|         1.43|        8.5|  1.0|    0.5|       0.0|         0.0|     null|                  0.3|        10.3|         2.0|      1.0|                 0.0|\n",
      "|       2| 2020-01-10 00:33:28|  2020-01-10 00:38:47|                 N|       1.0|         255|         256|            1.0|         0.85|        5.5|  0.5|    0.5|       0.0|         0.0|     null|                  0.3|         6.8|         2.0|      1.0|                 0.0|\n",
      "|       2| 2020-01-04 00:16:25|  2020-01-04 00:30:25|                 N|       5.0|          69|         247|            1.0|         2.41|       15.0|  0.0|    0.0|       0.0|         0.0|     null|                  0.3|        15.3|         2.0|      2.0|                 0.0|\n",
      "+--------+--------------------+---------------------+------------------+----------+------------+------------+---------------+-------------+-----------+-----+-------+----------+------------+---------+---------------------+------------+------------+---------+--------------------+\n",
      "only showing top 20 rows\n",
      "\n"
     ]
    }
   ],
   "source": [
    "df_green.show()"
   ]
  },
  {
   "cell_type": "code",
   "execution_count": 150,
   "id": "44dc5c35-3857-403e-a2bb-9cd31edcedc0",
   "metadata": {},
   "outputs": [
    {
     "name": "stdout",
     "output_type": "stream",
     "text": [
      "root\n",
      " |-- VendorID: long (nullable = true)\n",
      " |-- lpep_pickup_datetime: timestamp (nullable = true)\n",
      " |-- lpep_dropoff_datetime: timestamp (nullable = true)\n",
      " |-- store_and_fwd_flag: string (nullable = true)\n",
      " |-- RatecodeID: double (nullable = true)\n",
      " |-- PULocationID: long (nullable = true)\n",
      " |-- DOLocationID: long (nullable = true)\n",
      " |-- passenger_count: double (nullable = true)\n",
      " |-- trip_distance: double (nullable = true)\n",
      " |-- fare_amount: double (nullable = true)\n",
      " |-- extra: double (nullable = true)\n",
      " |-- mta_tax: double (nullable = true)\n",
      " |-- tip_amount: double (nullable = true)\n",
      " |-- tolls_amount: double (nullable = true)\n",
      " |-- ehail_fee: integer (nullable = true)\n",
      " |-- improvement_surcharge: double (nullable = true)\n",
      " |-- total_amount: double (nullable = true)\n",
      " |-- payment_type: double (nullable = true)\n",
      " |-- trip_type: double (nullable = true)\n",
      " |-- congestion_surcharge: double (nullable = true)\n",
      "\n"
     ]
    }
   ],
   "source": [
    "df_green.printSchema()"
   ]
  },
  {
   "cell_type": "code",
   "execution_count": 151,
   "id": "a355dd5f-aa93-4105-abc9-965ffe8ab74e",
   "metadata": {},
   "outputs": [],
   "source": [
    "df_yellow = spark.read.parquet('data/pq/yellow/*/*')"
   ]
  },
  {
   "cell_type": "code",
   "execution_count": 152,
   "id": "58ad02a6-045d-48ce-b2ef-073c136d88d4",
   "metadata": {},
   "outputs": [
    {
     "data": {
      "text/plain": [
       "['VendorID',\n",
       " 'lpep_pickup_datetime',\n",
       " 'lpep_dropoff_datetime',\n",
       " 'store_and_fwd_flag',\n",
       " 'RatecodeID',\n",
       " 'PULocationID',\n",
       " 'DOLocationID',\n",
       " 'passenger_count',\n",
       " 'trip_distance',\n",
       " 'fare_amount',\n",
       " 'extra',\n",
       " 'mta_tax',\n",
       " 'tip_amount',\n",
       " 'tolls_amount',\n",
       " 'ehail_fee',\n",
       " 'improvement_surcharge',\n",
       " 'total_amount',\n",
       " 'payment_type',\n",
       " 'trip_type',\n",
       " 'congestion_surcharge']"
      ]
     },
     "execution_count": 152,
     "metadata": {},
     "output_type": "execute_result"
    }
   ],
   "source": [
    "df_green.columns"
   ]
  },
  {
   "cell_type": "code",
   "execution_count": 153,
   "id": "8000a56a-ad63-4603-a7cd-bf7e9981057b",
   "metadata": {},
   "outputs": [],
   "source": [
    "df_green = df_green \\\n",
    "    .withColumnRenamed('lpep_pickup_datetime', 'pickup_datetime') \\\n",
    "    .withColumnRenamed('lpep_dropoff_datetime', 'dropoff_datetime')\n"
   ]
  },
  {
   "cell_type": "code",
   "execution_count": 154,
   "id": "0d804abc-fb5e-4171-9ff1-0b95288f9267",
   "metadata": {},
   "outputs": [
    {
     "data": {
      "text/plain": [
       "['VendorID',\n",
       " 'pickup_datetime',\n",
       " 'dropoff_datetime',\n",
       " 'store_and_fwd_flag',\n",
       " 'RatecodeID',\n",
       " 'PULocationID',\n",
       " 'DOLocationID',\n",
       " 'passenger_count',\n",
       " 'trip_distance',\n",
       " 'fare_amount',\n",
       " 'extra',\n",
       " 'mta_tax',\n",
       " 'tip_amount',\n",
       " 'tolls_amount',\n",
       " 'ehail_fee',\n",
       " 'improvement_surcharge',\n",
       " 'total_amount',\n",
       " 'payment_type',\n",
       " 'trip_type',\n",
       " 'congestion_surcharge']"
      ]
     },
     "execution_count": 154,
     "metadata": {},
     "output_type": "execute_result"
    }
   ],
   "source": [
    "df_green.columns"
   ]
  },
  {
   "cell_type": "code",
   "execution_count": 155,
   "id": "01b9a0df-329f-4fc2-aad5-0cafb2c2c7b8",
   "metadata": {},
   "outputs": [],
   "source": [
    "df_yellow = df_yellow \\\n",
    "    .withColumnRenamed('tpep_pickup_datetime', 'pickup_datetime') \\\n",
    "    .withColumnRenamed('tpep_dropoff_datetime', 'dropoff_datetime')\n"
   ]
  },
  {
   "cell_type": "code",
   "execution_count": 156,
   "id": "3e78e446-0bef-4d9a-b0e3-19284db7204f",
   "metadata": {},
   "outputs": [
    {
     "data": {
      "text/plain": [
       "['VendorID',\n",
       " 'pickup_datetime',\n",
       " 'dropoff_datetime',\n",
       " 'passenger_count',\n",
       " 'trip_distance',\n",
       " 'RatecodeID',\n",
       " 'store_and_fwd_flag',\n",
       " 'PULocationID',\n",
       " 'DOLocationID',\n",
       " 'payment_type',\n",
       " 'fare_amount',\n",
       " 'extra',\n",
       " 'mta_tax',\n",
       " 'tip_amount',\n",
       " 'tolls_amount',\n",
       " 'improvement_surcharge',\n",
       " 'total_amount',\n",
       " 'congestion_surcharge',\n",
       " 'airport_fee']"
      ]
     },
     "execution_count": 156,
     "metadata": {},
     "output_type": "execute_result"
    }
   ],
   "source": [
    "df_yellow.columns"
   ]
  },
  {
   "cell_type": "code",
   "execution_count": 157,
   "id": "2f8e0e4c-63cb-45ab-85d3-884df445f831",
   "metadata": {},
   "outputs": [
    {
     "data": {
      "text/plain": [
       "{'DOLocationID',\n",
       " 'PULocationID',\n",
       " 'RatecodeID',\n",
       " 'VendorID',\n",
       " 'congestion_surcharge',\n",
       " 'dropoff_datetime',\n",
       " 'extra',\n",
       " 'fare_amount',\n",
       " 'improvement_surcharge',\n",
       " 'mta_tax',\n",
       " 'passenger_count',\n",
       " 'payment_type',\n",
       " 'pickup_datetime',\n",
       " 'store_and_fwd_flag',\n",
       " 'tip_amount',\n",
       " 'tolls_amount',\n",
       " 'total_amount',\n",
       " 'trip_distance'}"
      ]
     },
     "execution_count": 157,
     "metadata": {},
     "output_type": "execute_result"
    }
   ],
   "source": [
    "set(df_green.columns) & set(df_yellow.columns) "
   ]
  },
  {
   "cell_type": "code",
   "execution_count": 158,
   "id": "283583f6-f916-4b27-be18-5493f6e2f045",
   "metadata": {},
   "outputs": [],
   "source": [
    "common_colums = []\n",
    "\n",
    "yellow_columns = set(df_yellow.columns)\n",
    "\n",
    "for col in df_green.columns:\n",
    "    if col in yellow_columns:\n",
    "        common_colums.append(col)"
   ]
  },
  {
   "cell_type": "code",
   "execution_count": 159,
   "id": "dab136a2-1b1e-445f-87bf-33ebf6bd7fe6",
   "metadata": {},
   "outputs": [
    {
     "data": {
      "text/plain": [
       "['VendorID',\n",
       " 'pickup_datetime',\n",
       " 'dropoff_datetime',\n",
       " 'store_and_fwd_flag',\n",
       " 'RatecodeID',\n",
       " 'PULocationID',\n",
       " 'DOLocationID',\n",
       " 'passenger_count',\n",
       " 'trip_distance',\n",
       " 'fare_amount',\n",
       " 'extra',\n",
       " 'mta_tax',\n",
       " 'tip_amount',\n",
       " 'tolls_amount',\n",
       " 'improvement_surcharge',\n",
       " 'total_amount',\n",
       " 'payment_type',\n",
       " 'congestion_surcharge']"
      ]
     },
     "execution_count": 159,
     "metadata": {},
     "output_type": "execute_result"
    }
   ],
   "source": [
    "common_colums"
   ]
  },
  {
   "cell_type": "code",
   "execution_count": 160,
   "id": "75cb9052-f02e-4220-afe8-f75f32bbe3df",
   "metadata": {},
   "outputs": [],
   "source": [
    "from pyspark.sql import functions as F"
   ]
  },
  {
   "cell_type": "code",
   "execution_count": 161,
   "id": "893b83ed-b8a6-414f-ac20-07e116e79425",
   "metadata": {},
   "outputs": [
    {
     "data": {
      "text/plain": [
       "DataFrame[VendorID: bigint, pickup_datetime: timestamp, dropoff_datetime: timestamp, store_and_fwd_flag: string, RatecodeID: double, PULocationID: bigint, DOLocationID: bigint, passenger_count: double, trip_distance: double, fare_amount: double, extra: double, mta_tax: double, tip_amount: double, tolls_amount: double, improvement_surcharge: double, total_amount: double, payment_type: double, congestion_surcharge: double, service_type: string]"
      ]
     },
     "execution_count": 161,
     "metadata": {},
     "output_type": "execute_result"
    }
   ],
   "source": [
    "df_green_sel = df_green \\\n",
    "    .select(common_colums) \\\n",
    "    .withColumn('service_type', F.lit('green'))\n",
    "\n",
    "df_green_sel"
   ]
  },
  {
   "cell_type": "code",
   "execution_count": 162,
   "id": "9fa419fd-7e8d-49e6-8791-3a44832c1f9a",
   "metadata": {},
   "outputs": [
    {
     "data": {
      "text/plain": [
       "DataFrame[VendorID: bigint, pickup_datetime: timestamp, dropoff_datetime: timestamp, store_and_fwd_flag: string, RatecodeID: double, PULocationID: bigint, DOLocationID: bigint, passenger_count: double, trip_distance: double, fare_amount: double, extra: double, mta_tax: double, tip_amount: double, tolls_amount: double, improvement_surcharge: double, total_amount: double, payment_type: double, congestion_surcharge: double, service_type: string]"
      ]
     },
     "execution_count": 162,
     "metadata": {},
     "output_type": "execute_result"
    }
   ],
   "source": [
    "df_yellow_sel = df_green \\\n",
    "    .select(common_colums) \\\n",
    "    .withColumn('service_type', F.lit('yellow'))\n",
    "\n",
    "df_yellow_sel"
   ]
  },
  {
   "cell_type": "code",
   "execution_count": 163,
   "id": "391bd4fb-10ca-48d0-b3c0-f89d464e116c",
   "metadata": {},
   "outputs": [],
   "source": [
    "# Combine both tables \n",
    "df_trips_data = df_green_sel.unionAll(df_yellow_sel)"
   ]
  },
  {
   "cell_type": "code",
   "execution_count": 164,
   "id": "5d6b8fc7-e38b-4cd3-81ef-ef872a370c17",
   "metadata": {},
   "outputs": [
    {
     "name": "stderr",
     "output_type": "stream",
     "text": [
      "[Stage 74:======================================>                 (11 + 5) / 16]\r"
     ]
    },
    {
     "name": "stdout",
     "output_type": "stream",
     "text": [
      "+------------+-------+\n",
      "|service_type|  count|\n",
      "+------------+-------+\n",
      "|       green|2802931|\n",
      "|      yellow|2802931|\n",
      "+------------+-------+\n",
      "\n"
     ]
    },
    {
     "name": "stderr",
     "output_type": "stream",
     "text": [
      "                                                                                \r"
     ]
    }
   ],
   "source": [
    "df_trips_data.groupBy('service_type').count().show()"
   ]
  },
  {
   "cell_type": "code",
   "execution_count": 165,
   "id": "8d396939-fffc-47f4-aae7-bce9d6857534",
   "metadata": {},
   "outputs": [],
   "source": [
    "# To create SQL table\n",
    "df_trips_data.createOrReplaceTempView('trips_data')"
   ]
  },
  {
   "cell_type": "code",
   "execution_count": 166,
   "id": "5612fbb1-2fa3-4491-84ee-12939a3acb46",
   "metadata": {},
   "outputs": [
    {
     "name": "stdout",
     "output_type": "stream",
     "text": [
      "+--------+-------------------+-------------------+------------------+----------+------------+------------+---------------+-------------+-----------+-----+-------+----------+------------+---------------------+------------+------------+--------------------+------------+\n",
      "|VendorID|    pickup_datetime|   dropoff_datetime|store_and_fwd_flag|RatecodeID|PULocationID|DOLocationID|passenger_count|trip_distance|fare_amount|extra|mta_tax|tip_amount|tolls_amount|improvement_surcharge|total_amount|payment_type|congestion_surcharge|service_type|\n",
      "+--------+-------------------+-------------------+------------------+----------+------------+------------+---------------+-------------+-----------+-----+-------+----------+------------+---------------------+------------+------------+--------------------+------------+\n",
      "|       2|2020-01-11 05:05:54|2020-01-11 05:13:49|                 N|       1.0|         129|         129|            1.0|         0.81|        6.5|  0.5|    0.5|      0.71|         0.0|                  0.3|        8.51|         1.0|                 0.0|       green|\n",
      "|       2|2020-01-17 20:33:05|2020-01-17 20:51:08|                 N|       1.0|          75|          42|            3.0|         2.69|       13.5|  1.0|    0.5|      3.06|         0.0|                  0.3|       18.36|         1.0|                 0.0|       green|\n",
      "|       2|2020-01-30 13:41:00|2020-01-30 14:30:00|              null|      null|         117|         188|           null|        13.11|      38.57| 2.75|    0.0|       0.0|        2.29|                  0.3|       43.91|        null|                null|       green|\n",
      "|       2|2020-01-11 22:25:44|2020-01-11 22:40:11|                 N|       1.0|          41|         151|            1.0|         2.13|       11.0|  0.5|    0.5|       0.0|         0.0|                  0.3|        12.3|         2.0|                 0.0|       green|\n",
      "|       2|2020-01-04 22:45:19|2020-01-04 22:52:57|                 N|       1.0|         129|         260|            1.0|         0.89|        6.5|  0.5|    0.5|       0.0|         0.0|                  0.3|         7.8|         2.0|                 0.0|       green|\n",
      "|       2|2020-01-15 20:07:07|2020-01-15 20:12:56|                 N|       1.0|          75|          75|            1.0|         0.88|        5.5|  1.0|    0.5|      1.46|         0.0|                  0.3|        8.76|         1.0|                 0.0|       green|\n",
      "|       2|2020-01-11 01:01:17|2020-01-11 01:10:14|                 N|       1.0|          66|         232|            1.0|         2.25|        9.5|  0.5|    0.5|      2.71|         0.0|                  0.3|       16.26|         1.0|                2.75|       green|\n",
      "|       2|2020-01-16 15:54:30|2020-01-16 16:00:39|                 N|       1.0|         129|         129|            2.0|         0.91|        6.0|  0.0|    0.5|       0.0|         0.0|                  0.3|         6.8|         2.0|                 0.0|       green|\n",
      "|       2|2020-01-01 20:53:32|2020-01-01 21:05:59|                 N|       1.0|          41|         168|            5.0|         2.69|       11.0|  0.0|    0.5|       0.0|         0.0|                  0.3|        11.8|         2.0|                 0.0|       green|\n",
      "|       2|2020-01-21 07:53:00|2020-01-21 08:24:00|              null|      null|          37|          33|           null|         5.35|      30.99| 2.75|    0.0|       0.0|         0.0|                  0.3|       34.04|        null|                null|       green|\n",
      "|       2|2020-01-19 13:18:31|2020-01-19 13:23:29|                 N|       1.0|         129|         129|            1.0|         0.58|        5.0|  0.0|    0.5|       0.0|         0.0|                  0.3|         5.8|         2.0|                 0.0|       green|\n",
      "|       2|2020-01-12 11:38:00|2020-01-12 11:56:00|              null|      null|          51|          60|           null|         7.83|      27.65| 2.75|    0.0|       0.0|         0.0|                  0.3|        30.7|        null|                null|       green|\n",
      "|       1|2020-01-04 14:39:34|2020-01-04 14:43:59|                 N|       1.0|         255|         255|            1.0|          0.5|        5.0|  0.0|    0.5|       0.0|         0.0|                  0.3|         5.8|         2.0|                 0.0|       green|\n",
      "|       1|2020-01-27 15:50:40|2020-01-27 15:56:26|                 N|       1.0|          95|          95|            1.0|          0.9|        6.0|  0.0|    0.5|      1.35|         0.0|                  0.3|        8.15|         1.0|                 0.0|       green|\n",
      "|       2|2020-01-20 09:41:00|2020-01-20 10:25:00|              null|      null|          86|         140|           null|        23.88|      67.67| 2.75|    0.0|       0.0|        6.12|                  0.3|       76.84|        null|                null|       green|\n",
      "|       2|2020-01-07 14:39:00|2020-01-07 14:52:00|              null|      null|          82|          56|           null|         1.96|      15.89| 2.75|    0.0|       0.0|         0.0|                  0.3|       18.94|        null|                null|       green|\n",
      "|       1|2020-01-25 11:04:57|2020-01-25 11:12:57|                 N|       5.0|         182|         213|            1.0|          0.0|        8.0|  0.0|    0.0|       0.0|         0.0|                  0.0|         8.0|         2.0|                 0.0|       green|\n",
      "|       2|2020-01-03 17:29:05|2020-01-03 17:39:03|                 N|       1.0|           7|         223|            1.0|         1.43|        8.5|  1.0|    0.5|       0.0|         0.0|                  0.3|        10.3|         2.0|                 0.0|       green|\n",
      "|       2|2020-01-10 00:33:28|2020-01-10 00:38:47|                 N|       1.0|         255|         256|            1.0|         0.85|        5.5|  0.5|    0.5|       0.0|         0.0|                  0.3|         6.8|         2.0|                 0.0|       green|\n",
      "|       2|2020-01-04 00:16:25|2020-01-04 00:30:25|                 N|       5.0|          69|         247|            1.0|         2.41|       15.0|  0.0|    0.0|       0.0|         0.0|                  0.3|        15.3|         2.0|                 0.0|       green|\n",
      "+--------+-------------------+-------------------+------------------+----------+------------+------------+---------------+-------------+-----------+-----+-------+----------+------------+---------------------+------------+------------+--------------------+------------+\n",
      "only showing top 20 rows\n",
      "\n"
     ]
    }
   ],
   "source": [
    "spark.sql(\"\"\"\n",
    "SELECT\n",
    "    *\n",
    "FROM\n",
    "    trips_data\n",
    "\"\"\").show()"
   ]
  },
  {
   "cell_type": "code",
   "execution_count": 167,
   "id": "3c56796e-d5bb-4fae-97a5-88524a32aa38",
   "metadata": {},
   "outputs": [],
   "source": [
    "df_result = spark.sql(\"\"\"\n",
    "SELECT \n",
    "    -- Reveneue grouping \n",
    "    PULocationID AS revenue_zone,\n",
    "    date_trunc('month', pickup_datetime) AS revenue_month, \n",
    "    service_type, \n",
    "\n",
    "    -- Revenue calculation \n",
    "    SUM(fare_amount) AS revenue_monthly_fare,\n",
    "    SUM(extra) AS revenue_monthly_extra,\n",
    "    SUM(mta_tax) AS revenue_monthly_mta_tax,\n",
    "    SUM(tip_amount) AS revenue_monthly_tip_amount,\n",
    "    SUM(tolls_amount) AS revenue_monthly_tolls_amount,\n",
    "    SUM(improvement_surcharge) AS revenue_monthly_improvement_surcharge,\n",
    "    SUM(total_amount) AS revenue_monthly_total_amount,\n",
    "    SUM(congestion_surcharge) AS revenue_monthly_congestion_surcharge,\n",
    "\n",
    "    -- Additional calculations\n",
    "    AVG(passenger_count) AS avg_montly_passenger_count,\n",
    "    AVG(trip_distance) AS avg_montly_trip_distance\n",
    "FROM\n",
    "    trips_data\n",
    "GROUP BY\n",
    "    1, 2, 3\n",
    "\"\"\")"
   ]
  },
  {
   "cell_type": "code",
   "execution_count": 168,
   "id": "dc81df08-10d3-43d1-8a34-f0cdb275daf8",
   "metadata": {},
   "outputs": [
    {
     "name": "stderr",
     "output_type": "stream",
     "text": [
      "[Stage 78:======================================>                 (11 + 5) / 16]\r"
     ]
    },
    {
     "name": "stdout",
     "output_type": "stream",
     "text": [
      "+------------+-------------------+------------+--------------------+---------------------+-----------------------+--------------------------+----------------------------+-------------------------------------+----------------------------+------------------------------------+--------------------------+------------------------+\n",
      "|revenue_zone|      revenue_month|service_type|revenue_monthly_fare|revenue_monthly_extra|revenue_monthly_mta_tax|revenue_monthly_tip_amount|revenue_monthly_tolls_amount|revenue_monthly_improvement_surcharge|revenue_monthly_total_amount|revenue_monthly_congestion_surcharge|avg_montly_passenger_count|avg_montly_trip_distance|\n",
      "+------------+-------------------+------------+--------------------+---------------------+-----------------------+--------------------------+----------------------------+-------------------------------------+----------------------------+------------------------------------+--------------------------+------------------------+\n",
      "|          19|2020-02-01 00:00:00|       green|   6657.659999999998|               431.75|                   24.5|                       5.0|          143.05000000000004|                    55.19999999999983|           7317.160000000005|                                 0.0|                       1.0|       8.204202127659578|\n",
      "|          72|2020-02-01 00:00:00|       green|  26866.740000000085|              2483.25|                  187.5|         76.24999999999999|          404.11000000000024|                   300.30000000000564|          30327.899999999863|                                 0.0|        1.1813725490196079|       184.6297354014599|\n",
      "|         150|2020-02-01 00:00:00|       green|   7963.899999999997|                651.5|                   57.0|        111.00999999999999|           87.97000000000001|                    82.79999999999957|            8956.12999999999|                                 0.0|        1.0129870129870129|       6.171721854304635|\n",
      "|          66|2020-03-01 00:00:00|       green|  50744.969999999994|               1760.5|                 1568.5|         8434.050000000017|                       147.3|                    971.9999999999842|           66787.02000000057|                              3576.0|        1.5741853843720341|       4.022946785604428|\n",
      "|          47|2020-03-01 00:00:00|       green|   7421.809999999998|                91.25|                   76.5|                     35.96|           257.0400000000001|                   122.39999999999955|           8050.260000000015|                                 0.0|        1.2748538011695907|       4.866075650118204|\n",
      "|         173|2020-01-01 00:00:00|       green|  15805.269999999999|                860.0|                  375.0|                    262.91|           384.5300000000002|                    296.1000000000055|          18010.509999999762|                               30.25|        1.4265463917525774|      3.2089095992544294|\n",
      "|         208|2020-02-01 00:00:00|       green|  12883.520000000002|               1065.0|                   85.0|         99.24999999999999|           374.3100000000002|                    145.7999999999998|           14661.48000000001|                                2.75|        1.2037037037037037|       4.859489051094891|\n",
      "|         197|2020-01-01 00:00:00|       green|            43522.35|               1847.0|                  336.5|        126.97999999999999|          2301.0599999999795|                    380.7000000000087|          48537.990000000085|                                16.5|        1.1779816513761467|       8.524692653673165|\n",
      "|         178|2020-01-01 00:00:00|       green|  4800.7999999999965|               266.25|                   40.5|                      4.16|          124.46000000000005|                   50.699999999999875|           5288.819999999998|                                 0.0|        1.2682926829268293|       4.158229665071773|\n",
      "|         204|2020-01-01 00:00:00|       green|               93.45|                 2.75|                    0.5|                       0.0|                        23.5|                                  0.3|                       120.5|                                null|                      null|                   44.47|\n",
      "|         124|2020-02-01 00:00:00|       green|   5373.219999999995|                396.0|                   28.5|                       4.0|           93.30000000000001|                    53.39999999999985|           5948.420000000003|                                 0.0|        1.1363636363636365|      7.0190055248618775|\n",
      "|          60|2020-02-01 00:00:00|       green|             8463.77|               726.75|                   75.0|                     20.04|          257.04000000000013|                   107.99999999999933|           9655.299999999994|                                2.75|        1.1055900621118013|       4.390073710073714|\n",
      "|         257|2020-02-01 00:00:00|       green|   4635.619999999999|                383.0|                   52.0|                    148.31|           195.8400000000001|                    61.79999999999977|           5537.569999999996|                                22.0|        1.1818181818181819|      25.309132420091323|\n",
      "|         178|2020-03-01 00:00:00|       green|  1599.6100000000001|                 4.75|                    8.0|        6.0600000000000005|                       36.72|                    22.20000000000001|          1697.1399999999999|                                 0.0|        1.5454545454545454|                  4.5972|\n",
      "|         262|2020-03-01 00:00:00|       green|              366.34|                  1.5|                    5.5|                      25.6|          48.959999999999994|                    6.299999999999999|                      470.15|                                11.0|                       1.0|       5.245238095238095|\n",
      "|          89|2020-01-01 00:00:00|       green|  53814.319999999956|              3609.75|                  545.5|         413.1900000000001|          1059.2199999999998|                    612.2999999999985|          60147.180000000386|                                55.0|          1.21483771251932|       4.773319130805294|\n",
      "|          88|2020-02-01 00:00:00|       green|   3366.079999999999|               229.25|                    7.0|                       0.0|           239.4300000000001|                   26.700000000000042|           3868.460000000003|                                 0.0|                       1.0|      10.510666666666664|\n",
      "|          95|2020-01-01 00:00:00|       green|  165173.62000000043|               8048.0|                 6066.5|        13395.030000000012|          2529.8199999999742|                   3994.8000000009615|          199904.46999997998|                               722.5|         1.375327868852459|      2.7894457564575488|\n",
      "|         151|2020-01-01 00:00:00|       green|   4614.639999999999|                347.5|                   26.5|                       0.0|          252.68000000000015|                    53.09999999999985|           5294.420000000003|                                 0.0|                       1.0|       6.696448087431697|\n",
      "|          93|2020-01-01 00:00:00|       green|   3942.730000000001|                132.5|                   51.0|                     85.04|                       73.44|                    46.79999999999991|           4341.710000000004|                                8.25|        1.3392857142857142|      5.8942073170731675|\n",
      "+------------+-------------------+------------+--------------------+---------------------+-----------------------+--------------------------+----------------------------+-------------------------------------+----------------------------+------------------------------------+--------------------------+------------------------+\n",
      "only showing top 20 rows\n",
      "\n"
     ]
    },
    {
     "name": "stderr",
     "output_type": "stream",
     "text": [
      "                                                                                \r"
     ]
    }
   ],
   "source": [
    "df_result.show()"
   ]
  },
  {
   "cell_type": "code",
   "execution_count": 169,
   "id": "6ff7732f-3735-45dc-acfd-bce3eb410604",
   "metadata": {},
   "outputs": [
    {
     "name": "stderr",
     "output_type": "stream",
     "text": [
      "                                                                                \r"
     ]
    }
   ],
   "source": [
    "df_result.coalesce(1).write.parquet('data/report/revenue/', mode='overwrite')"
   ]
  },
  {
   "cell_type": "code",
   "execution_count": null,
   "id": "1429f59b-f5e5-407b-80d1-4182489051cf",
   "metadata": {},
   "outputs": [],
   "source": []
  }
 ],
 "metadata": {
  "kernelspec": {
   "display_name": "Python 3 (ipykernel)",
   "language": "python",
   "name": "python3"
  },
  "language_info": {
   "codemirror_mode": {
    "name": "ipython",
    "version": 3
   },
   "file_extension": ".py",
   "mimetype": "text/x-python",
   "name": "python",
   "nbconvert_exporter": "python",
   "pygments_lexer": "ipython3",
   "version": "3.10.12"
  }
 },
 "nbformat": 4,
 "nbformat_minor": 5
}
