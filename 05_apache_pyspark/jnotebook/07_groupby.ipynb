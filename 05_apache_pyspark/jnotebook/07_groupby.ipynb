{
 "cells": [
  {
   "cell_type": "markdown",
   "id": "acf0a208-8691-4aa6-a0e8-7e142168021c",
   "metadata": {},
   "source": [
    "## 5.4.2 - Groupby Join"
   ]
  },
  {
   "cell_type": "code",
   "execution_count": 43,
   "id": "1a9a47e9-7b75-4a5a-90b2-e32b142159b6",
   "metadata": {},
   "outputs": [],
   "source": [
    "import pyspark\n",
    "from pyspark.sql import SparkSession"
   ]
  },
  {
   "cell_type": "code",
   "execution_count": 44,
   "id": "70d7f7eb-650b-44fe-9dfb-bdce02c9b0ee",
   "metadata": {},
   "outputs": [],
   "source": [
    "spark = SparkSession.builder \\\n",
    "    .master(\"local[*]\") \\\n",
    "    .appName('test') \\\n",
    "    .getOrCreate()"
   ]
  },
  {
   "cell_type": "code",
   "execution_count": 45,
   "id": "d7f2caf8-6f7c-4e87-a369-b11bd44f6866",
   "metadata": {},
   "outputs": [],
   "source": [
    "df_green = spark.read.parquet('data/pq/green/*/*')"
   ]
  },
  {
   "cell_type": "code",
   "execution_count": 46,
   "id": "55140316-8bec-4b75-8f26-a3ff4e232a6e",
   "metadata": {},
   "outputs": [],
   "source": [
    "df_green.createOrReplaceTempView('green')"
   ]
  },
  {
   "cell_type": "code",
   "execution_count": 47,
   "id": "d4fc7ddc-9065-4d5c-875f-8593da550e79",
   "metadata": {},
   "outputs": [],
   "source": [
    "df_green_revenue = spark.sql(\"\"\"\n",
    "SELECT \n",
    "    date_trunc('hour', lpep_pickup_datetime) AS hour, \n",
    "    PULocationID AS zone,\n",
    "\n",
    "    SUM(total_amount) AS amount,\n",
    "    COUNT(1) AS number_records\n",
    "FROM\n",
    "    green\n",
    "WHERE\n",
    "    lpep_pickup_datetime >= '2020-01-01 00:00:00'\n",
    "GROUP BY\n",
    "    1, 2\n",
    "\"\"\")"
   ]
  },
  {
   "cell_type": "code",
   "execution_count": 48,
   "id": "473be888-d411-4181-9c19-9c3c45af246d",
   "metadata": {
    "scrolled": true
   },
   "outputs": [
    {
     "name": "stderr",
     "output_type": "stream",
     "text": [
      "[Stage 55:====================================>                     (5 + 3) / 8]\r"
     ]
    },
    {
     "name": "stdout",
     "output_type": "stream",
     "text": [
      "+-------------------+----+------------------+--------------+\n",
      "|               hour|zone|            amount|number_records|\n",
      "+-------------------+----+------------------+--------------+\n",
      "|2020-01-22 19:00:00|  49|            163.25|             8|\n",
      "|2020-01-23 14:00:00| 260|            135.01|             9|\n",
      "|2020-01-05 20:00:00| 216|            249.89|             7|\n",
      "|2020-01-16 14:00:00|  82| 309.4800000000002|            30|\n",
      "|2020-01-17 09:00:00| 116|333.40000000000003|            20|\n",
      "|2020-01-05 15:00:00|  74|1208.1699999999987|            87|\n",
      "|2020-01-16 23:00:00|  35|             64.75|             2|\n",
      "|2020-01-08 21:00:00|  65| 447.3200000000001|            32|\n",
      "|2020-01-12 05:00:00|  80|            178.57|            11|\n",
      "|2020-01-22 10:00:00|  74|1390.3599999999988|           101|\n",
      "|2020-01-04 09:00:00| 260|38.150000000000006|             4|\n",
      "|2020-01-22 15:00:00|  25| 365.2900000000001|            22|\n",
      "|2020-01-09 12:00:00| 225|            380.23|            19|\n",
      "|2020-01-12 15:00:00|  74|1007.6399999999993|            72|\n",
      "|2020-01-10 20:00:00| 166| 308.9800000000001|            20|\n",
      "|2020-01-17 15:00:00| 140|141.20000000000002|             4|\n",
      "|2020-01-03 15:00:00|   7| 583.3200000000002|            32|\n",
      "|2020-01-11 16:00:00| 220|14.600000000000001|             2|\n",
      "|2020-01-09 17:00:00| 197|1141.5900000000001|            27|\n",
      "|2020-01-04 16:00:00|  91|126.27999999999999|             4|\n",
      "+-------------------+----+------------------+--------------+\n",
      "only showing top 20 rows\n",
      "\n"
     ]
    },
    {
     "name": "stderr",
     "output_type": "stream",
     "text": [
      "                                                                                \r"
     ]
    }
   ],
   "source": [
    "df_green_revenue.show()"
   ]
  },
  {
   "cell_type": "code",
   "execution_count": 49,
   "id": "06e5dee4-99d8-4135-80c7-1e4e3fbbe148",
   "metadata": {},
   "outputs": [
    {
     "name": "stderr",
     "output_type": "stream",
     "text": [
      "[Stage 60:==================================================>       (7 + 1) / 8]\r"
     ]
    },
    {
     "name": "stdout",
     "output_type": "stream",
     "text": [
      "24/02/26 21:54:52 WARN MemoryManager: Total allocation exceeds 95.00% (1,020,054,720 bytes) of heap memory\n",
      "Scaling row group sizes to 95.00% for 8 writers\n"
     ]
    },
    {
     "name": "stderr",
     "output_type": "stream",
     "text": [
      "[Stage 63:======================>                                  (8 + 8) / 20]\r"
     ]
    },
    {
     "name": "stdout",
     "output_type": "stream",
     "text": [
      "24/02/26 21:54:53 WARN MemoryManager: Total allocation exceeds 95.00% (1,020,054,720 bytes) of heap memory\n",
      "Scaling row group sizes to 95.00% for 8 writers\n"
     ]
    },
    {
     "name": "stderr",
     "output_type": "stream",
     "text": [
      "                                                                                \r"
     ]
    }
   ],
   "source": [
    "df_green_revenue \\\n",
    "    .repartition(20) \\\n",
    "    .write.parquet('data/report/revenue/green', mode='overwrite')"
   ]
  },
  {
   "cell_type": "code",
   "execution_count": 50,
   "id": "3d9adb58-5913-4e18-93ec-159077205c53",
   "metadata": {},
   "outputs": [],
   "source": [
    "df_yellow = spark.read.parquet('data/pq/yellow/*/*')"
   ]
  },
  {
   "cell_type": "code",
   "execution_count": 51,
   "id": "939dcd98-dad0-4296-9d38-a95cc97a8182",
   "metadata": {},
   "outputs": [],
   "source": [
    "df_yellow.createOrReplaceTempView('yellow')"
   ]
  },
  {
   "cell_type": "code",
   "execution_count": 52,
   "id": "3ce04d2d-fb46-4be3-8361-4ee69b54982f",
   "metadata": {},
   "outputs": [
    {
     "data": {
      "text/plain": [
       "['VendorID',\n",
       " 'tpep_pickup_datetime',\n",
       " 'tpep_dropoff_datetime',\n",
       " 'passenger_count',\n",
       " 'trip_distance',\n",
       " 'RatecodeID',\n",
       " 'store_and_fwd_flag',\n",
       " 'PULocationID',\n",
       " 'DOLocationID',\n",
       " 'payment_type',\n",
       " 'fare_amount',\n",
       " 'extra',\n",
       " 'mta_tax',\n",
       " 'tip_amount',\n",
       " 'tolls_amount',\n",
       " 'improvement_surcharge',\n",
       " 'total_amount',\n",
       " 'congestion_surcharge',\n",
       " 'airport_fee']"
      ]
     },
     "execution_count": 52,
     "metadata": {},
     "output_type": "execute_result"
    }
   ],
   "source": [
    "df_yellow.columns"
   ]
  },
  {
   "cell_type": "code",
   "execution_count": 53,
   "id": "c7577ba4-4ac8-45cd-980f-44b045e38122",
   "metadata": {},
   "outputs": [],
   "source": [
    "df_yellow_revenue = spark.sql(\"\"\"\n",
    "SELECT \n",
    "    date_trunc('hour', tpep_pickup_datetime) AS hour, \n",
    "    PULocationID AS zone,\n",
    "\n",
    "    SUM(total_amount) AS amount,\n",
    "    COUNT(1) AS number_records\n",
    "FROM\n",
    "    yellow\n",
    "WHERE\n",
    "    tpep_pickup_datetime >= '2020-01-01 00:00:00'\n",
    "GROUP BY\n",
    "    1, 2\n",
    "\"\"\")"
   ]
  },
  {
   "cell_type": "code",
   "execution_count": 54,
   "id": "cb59821a-1b92-4566-b1b2-753c9b8b96c2",
   "metadata": {},
   "outputs": [
    {
     "name": "stderr",
     "output_type": "stream",
     "text": [
      "[Stage 67:=============================>                            (4 + 4) / 8]\r"
     ]
    },
    {
     "name": "stdout",
     "output_type": "stream",
     "text": [
      "24/02/26 21:55:21 WARN MemoryManager: Total allocation exceeds 95.00% (1,020,054,720 bytes) of heap memory\n",
      "Scaling row group sizes to 95.00% for 8 writers\n"
     ]
    },
    {
     "name": "stderr",
     "output_type": "stream",
     "text": [
      "                                                                                \r"
     ]
    }
   ],
   "source": [
    "df_yellow_revenue \\\n",
    "    .repartition(20) \\\n",
    "    .write.parquet('data/report/revenue/yellow', mode='overwrite')"
   ]
  },
  {
   "cell_type": "markdown",
   "id": "db226105-0836-48d3-841c-493dca6409ef",
   "metadata": {},
   "source": [
    "## 5.4.3 - Join in Spark"
   ]
  },
  {
   "cell_type": "code",
   "execution_count": 60,
   "id": "72b41537-b356-494b-9017-aa8d6c18d00d",
   "metadata": {},
   "outputs": [],
   "source": [
    "# Separating files name of amount & number records \n",
    "df_green_revenue_tmp = df_green_revenue \\\n",
    "    .withColumnRenamed('amount', 'green_amount') \\\n",
    "    .withColumnRenamed('number_records', 'green_number_records')\n",
    "\n",
    "df_yellow_revenue_tmp = df_yellow_revenue \\\n",
    "    .withColumnRenamed('amount', 'yellow_amount') \\\n",
    "    .withColumnRenamed('number_records', 'yellow_number_records')"
   ]
  },
  {
   "cell_type": "code",
   "execution_count": 63,
   "id": "3205ce07-8517-4ef5-9864-9713d8786fb7",
   "metadata": {},
   "outputs": [
    {
     "data": {
      "text/plain": [
       "DataFrame[hour: timestamp, zone: bigint, green_amount: double, green_number_records: bigint, yellow_amount: double, yellow_number_records: bigint]"
      ]
     },
     "execution_count": 63,
     "metadata": {},
     "output_type": "execute_result"
    }
   ],
   "source": [
    "df_join = df_green_revenue_tmp.join(df_yellow_revenue_tmp, on=['hour', 'zone'], how='outer')\n",
    "df_join"
   ]
  },
  {
   "cell_type": "code",
   "execution_count": 65,
   "id": "6346c579-f415-45c9-b664-efb6e9e8cbbb",
   "metadata": {},
   "outputs": [
    {
     "name": "stderr",
     "output_type": "stream",
     "text": [
      "[Stage 90:>                                                         (0 + 8) / 9]\r"
     ]
    },
    {
     "name": "stdout",
     "output_type": "stream",
     "text": [
      "24/02/26 22:30:14 WARN MemoryManager: Total allocation exceeds 95.00% (1,020,054,720 bytes) of heap memory\n",
      "Scaling row group sizes to 95.00% for 8 writers\n"
     ]
    },
    {
     "name": "stderr",
     "output_type": "stream",
     "text": [
      "                                                                                \r"
     ]
    }
   ],
   "source": [
    "# Create total report for both green & yellow\n",
    "df_join.write.parquet('data/report/revenue/total', mode='overwrite')"
   ]
  },
  {
   "cell_type": "code",
   "execution_count": 64,
   "id": "caf0e490-e136-4f9c-b76b-00955bdbf2bf",
   "metadata": {},
   "outputs": [
    {
     "name": "stderr",
     "output_type": "stream",
     "text": [
      "[Stage 82:===================================================>    (12 + 1) / 13]\r"
     ]
    },
    {
     "name": "stdout",
     "output_type": "stream",
     "text": [
      "+-------------------+----+------------------+--------------------+------------------+---------------------+\n",
      "|               hour|zone|      green_amount|green_number_records|     yellow_amount|yellow_number_records|\n",
      "+-------------------+----+------------------+--------------------+------------------+---------------------+\n",
      "|2020-01-01 00:00:00|  50|              null|                null|             18.36|                    2|\n",
      "|2020-01-01 00:00:00|  79|              null|                null|             17.76|                    1|\n",
      "|2020-01-01 00:00:00|  87|              null|                null|             23.16|                    1|\n",
      "|2020-01-01 00:00:00|  90|              null|                null|             14.12|                    1|\n",
      "|2020-01-01 00:00:00| 107|              null|                null|              14.3|                    1|\n",
      "|2020-01-01 00:00:00| 138|              null|                null|            125.94|                    4|\n",
      "|2020-01-01 00:00:00| 186|              null|                null|             73.72|                    2|\n",
      "|2020-01-01 00:00:00| 211|              null|                null|              21.3|                    1|\n",
      "|2020-01-01 00:00:00| 236|              null|                null|             11.16|                    1|\n",
      "|2020-01-01 01:00:00|  10|              null|                null|             42.41|                    2|\n",
      "|2020-01-01 01:00:00|  36|295.34000000000003|                  11|            109.17|                    3|\n",
      "|2020-01-01 01:00:00|  68|              null|                null| 7825.070000000018|                  396|\n",
      "|2020-01-01 01:00:00|  70|54.900000000000006|                   3|               9.3|                    1|\n",
      "|2020-01-01 01:00:00|  73|              null|                null|              17.3|                    1|\n",
      "|2020-01-01 01:00:00|  76|            143.78|                   4|             35.51|                    2|\n",
      "|2020-01-01 01:00:00|  79|              null|                null| 12573.81000000003|                  721|\n",
      "|2020-01-01 01:00:00|  83|              94.1|                   7|               9.8|                    1|\n",
      "|2020-01-01 01:00:00| 107|              null|                null| 6441.030000000005|                  380|\n",
      "|2020-01-01 01:00:00| 112|312.26000000000005|                  18|119.47999999999999|                    8|\n",
      "|2020-01-01 01:00:00| 114|              null|                null| 6256.430000000008|                  333|\n",
      "+-------------------+----+------------------+--------------------+------------------+---------------------+\n",
      "only showing top 20 rows\n",
      "\n"
     ]
    },
    {
     "name": "stderr",
     "output_type": "stream",
     "text": [
      "                                                                                \r"
     ]
    }
   ],
   "source": [
    "df_join.show()"
   ]
  },
  {
   "cell_type": "code",
   "execution_count": null,
   "id": "b70b304b-ae90-40c0-94fc-e510d3fdf625",
   "metadata": {},
   "outputs": [],
   "source": []
  }
 ],
 "metadata": {
  "kernelspec": {
   "display_name": "Python 3 (ipykernel)",
   "language": "python",
   "name": "python3"
  },
  "language_info": {
   "codemirror_mode": {
    "name": "ipython",
    "version": 3
   },
   "file_extension": ".py",
   "mimetype": "text/x-python",
   "name": "python",
   "nbconvert_exporter": "python",
   "pygments_lexer": "ipython3",
   "version": "3.10.12"
  }
 },
 "nbformat": 4,
 "nbformat_minor": 5
}
