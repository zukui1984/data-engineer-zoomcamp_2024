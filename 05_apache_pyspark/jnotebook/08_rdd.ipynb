{
 "cells": [
  {
   "cell_type": "markdown",
   "id": "bdd9209e-6f5e-4824-9ab7-e358730092d7",
   "metadata": {},
   "source": [
    "## 5.5.1 - RDD (Resilient Distributed Dataset)"
   ]
  },
  {
   "cell_type": "code",
   "execution_count": 1,
   "id": "2cc2df60-9f2f-4fdc-99cd-4b4b114475b0",
   "metadata": {},
   "outputs": [
    {
     "name": "stdout",
     "output_type": "stream",
     "text": [
      "24/02/27 14:29:07 WARN Utils: Your hostname, zukui-1984 resolves to a loopback address: 127.0.1.1; using 172.17.212.189 instead (on interface eth0)\n",
      "24/02/27 14:29:07 WARN Utils: Set SPARK_LOCAL_IP if you need to bind to another address\n"
     ]
    },
    {
     "name": "stderr",
     "output_type": "stream",
     "text": [
      "Setting default log level to \"WARN\".\n",
      "To adjust logging level use sc.setLogLevel(newLevel). For SparkR, use setLogLevel(newLevel).\n"
     ]
    },
    {
     "name": "stdout",
     "output_type": "stream",
     "text": [
      "24/02/27 14:29:10 WARN NativeCodeLoader: Unable to load native-hadoop library for your platform... using builtin-java classes where applicable\n"
     ]
    }
   ],
   "source": [
    "import pyspark\n",
    "from pyspark.sql import SparkSession\n",
    "\n",
    "spark = SparkSession.builder \\\n",
    "    .master(\"local[*]\") \\\n",
    "    .appName('test') \\\n",
    "    .getOrCreate()"
   ]
  },
  {
   "cell_type": "code",
   "execution_count": 2,
   "id": "fc613703-6b83-4ca7-a5d1-8b4b55dbb525",
   "metadata": {},
   "outputs": [
    {
     "name": "stderr",
     "output_type": "stream",
     "text": [
      "                                                                                \r"
     ]
    }
   ],
   "source": [
    "df_green = spark.read.parquet('data/pq/green/*/*')"
   ]
  },
  {
   "cell_type": "markdown",
   "id": "8d04bcf4-4138-403d-a03b-f4a00cf0c2c9",
   "metadata": {},
   "source": [
    "```\n",
    "SELECT \n",
    "    date_trunc('hour', lpep_pickup_datetime) AS hour, \n",
    "    PULocationID AS zone,\n",
    "\n",
    "    SUM(total_amount) AS amount,\n",
    "    COUNT(1) AS number_records\n",
    "FROM\n",
    "    green\n",
    "WHERE\n",
    "    lpep_pickup_datetime >= '2020-01-01 00:00:00'\n",
    "GROUP BY\n",
    "    1, 2\n",
    "```"
   ]
  },
  {
   "cell_type": "code",
   "execution_count": 3,
   "id": "e4dae554-465e-432a-a61b-b5f6fc0ac3de",
   "metadata": {},
   "outputs": [
    {
     "name": "stderr",
     "output_type": "stream",
     "text": [
      "                                                                                \r"
     ]
    },
    {
     "name": "stdout",
     "output_type": "stream",
     "text": [
      "+--------+--------------------+---------------------+------------------+----------+------------+------------+---------------+-------------+-----------+-----+-------+----------+------------+---------+---------------------+------------+------------+---------+--------------------+\n",
      "|VendorID|lpep_pickup_datetime|lpep_dropoff_datetime|store_and_fwd_flag|RatecodeID|PULocationID|DOLocationID|passenger_count|trip_distance|fare_amount|extra|mta_tax|tip_amount|tolls_amount|ehail_fee|improvement_surcharge|total_amount|payment_type|trip_type|congestion_surcharge|\n",
      "+--------+--------------------+---------------------+------------------+----------+------------+------------+---------------+-------------+-----------+-----+-------+----------+------------+---------+---------------------+------------+------------+---------+--------------------+\n",
      "|       2| 2020-01-11 05:05:54|  2020-01-11 05:13:49|                 N|       1.0|         129|         129|            1.0|         0.81|        6.5|  0.5|    0.5|      0.71|         0.0|     null|                  0.3|        8.51|         1.0|      1.0|                 0.0|\n",
      "|       2| 2020-01-17 20:33:05|  2020-01-17 20:51:08|                 N|       1.0|          75|          42|            3.0|         2.69|       13.5|  1.0|    0.5|      3.06|         0.0|     null|                  0.3|       18.36|         1.0|      1.0|                 0.0|\n",
      "|       2| 2020-01-30 13:41:00|  2020-01-30 14:30:00|              null|      null|         117|         188|           null|        13.11|      38.57| 2.75|    0.0|       0.0|        2.29|     null|                  0.3|       43.91|        null|     null|                null|\n",
      "|       2| 2020-01-11 22:25:44|  2020-01-11 22:40:11|                 N|       1.0|          41|         151|            1.0|         2.13|       11.0|  0.5|    0.5|       0.0|         0.0|     null|                  0.3|        12.3|         2.0|      1.0|                 0.0|\n",
      "|       2| 2020-01-04 22:45:19|  2020-01-04 22:52:57|                 N|       1.0|         129|         260|            1.0|         0.89|        6.5|  0.5|    0.5|       0.0|         0.0|     null|                  0.3|         7.8|         2.0|      1.0|                 0.0|\n",
      "|       2| 2020-01-15 20:07:07|  2020-01-15 20:12:56|                 N|       1.0|          75|          75|            1.0|         0.88|        5.5|  1.0|    0.5|      1.46|         0.0|     null|                  0.3|        8.76|         1.0|      1.0|                 0.0|\n",
      "|       2| 2020-01-11 01:01:17|  2020-01-11 01:10:14|                 N|       1.0|          66|         232|            1.0|         2.25|        9.5|  0.5|    0.5|      2.71|         0.0|     null|                  0.3|       16.26|         1.0|      1.0|                2.75|\n",
      "|       2| 2020-01-16 15:54:30|  2020-01-16 16:00:39|                 N|       1.0|         129|         129|            2.0|         0.91|        6.0|  0.0|    0.5|       0.0|         0.0|     null|                  0.3|         6.8|         2.0|      1.0|                 0.0|\n",
      "|       2| 2020-01-01 20:53:32|  2020-01-01 21:05:59|                 N|       1.0|          41|         168|            5.0|         2.69|       11.0|  0.0|    0.5|       0.0|         0.0|     null|                  0.3|        11.8|         2.0|      1.0|                 0.0|\n",
      "|       2| 2020-01-21 07:53:00|  2020-01-21 08:24:00|              null|      null|          37|          33|           null|         5.35|      30.99| 2.75|    0.0|       0.0|         0.0|     null|                  0.3|       34.04|        null|     null|                null|\n",
      "|       2| 2020-01-19 13:18:31|  2020-01-19 13:23:29|                 N|       1.0|         129|         129|            1.0|         0.58|        5.0|  0.0|    0.5|       0.0|         0.0|     null|                  0.3|         5.8|         2.0|      1.0|                 0.0|\n",
      "|       2| 2020-01-12 11:38:00|  2020-01-12 11:56:00|              null|      null|          51|          60|           null|         7.83|      27.65| 2.75|    0.0|       0.0|         0.0|     null|                  0.3|        30.7|        null|     null|                null|\n",
      "|       1| 2020-01-04 14:39:34|  2020-01-04 14:43:59|                 N|       1.0|         255|         255|            1.0|          0.5|        5.0|  0.0|    0.5|       0.0|         0.0|     null|                  0.3|         5.8|         2.0|      1.0|                 0.0|\n",
      "|       1| 2020-01-27 15:50:40|  2020-01-27 15:56:26|                 N|       1.0|          95|          95|            1.0|          0.9|        6.0|  0.0|    0.5|      1.35|         0.0|     null|                  0.3|        8.15|         1.0|      1.0|                 0.0|\n",
      "|       2| 2020-01-20 09:41:00|  2020-01-20 10:25:00|              null|      null|          86|         140|           null|        23.88|      67.67| 2.75|    0.0|       0.0|        6.12|     null|                  0.3|       76.84|        null|     null|                null|\n",
      "|       2| 2020-01-07 14:39:00|  2020-01-07 14:52:00|              null|      null|          82|          56|           null|         1.96|      15.89| 2.75|    0.0|       0.0|         0.0|     null|                  0.3|       18.94|        null|     null|                null|\n",
      "|       1| 2020-01-25 11:04:57|  2020-01-25 11:12:57|                 N|       5.0|         182|         213|            1.0|          0.0|        8.0|  0.0|    0.0|       0.0|         0.0|     null|                  0.0|         8.0|         2.0|      2.0|                 0.0|\n",
      "|       2| 2020-01-03 17:29:05|  2020-01-03 17:39:03|                 N|       1.0|           7|         223|            1.0|         1.43|        8.5|  1.0|    0.5|       0.0|         0.0|     null|                  0.3|        10.3|         2.0|      1.0|                 0.0|\n",
      "|       2| 2020-01-10 00:33:28|  2020-01-10 00:38:47|                 N|       1.0|         255|         256|            1.0|         0.85|        5.5|  0.5|    0.5|       0.0|         0.0|     null|                  0.3|         6.8|         2.0|      1.0|                 0.0|\n",
      "|       2| 2020-01-04 00:16:25|  2020-01-04 00:30:25|                 N|       5.0|          69|         247|            1.0|         2.41|       15.0|  0.0|    0.0|       0.0|         0.0|     null|                  0.3|        15.3|         2.0|      2.0|                 0.0|\n",
      "+--------+--------------------+---------------------+------------------+----------+------------+------------+---------------+-------------+-----------+-----+-------+----------+------------+---------+---------------------+------------+------------+---------+--------------------+\n",
      "only showing top 20 rows\n",
      "\n"
     ]
    }
   ],
   "source": [
    "df_green.show()"
   ]
  },
  {
   "cell_type": "code",
   "execution_count": 4,
   "id": "4c9c6bd9-66ff-421b-83c6-62c4566a553f",
   "metadata": {},
   "outputs": [
    {
     "data": {
      "text/plain": [
       "MapPartitionsRDD[11] at javaToPython at NativeMethodAccessorImpl.java:0"
      ]
     },
     "execution_count": 4,
     "metadata": {},
     "output_type": "execute_result"
    }
   ],
   "source": [
    "df_green.rdd"
   ]
  },
  {
   "cell_type": "code",
   "execution_count": 5,
   "id": "6187da2e-9151-4666-b109-07d35fe33b72",
   "metadata": {},
   "outputs": [
    {
     "data": {
      "text/plain": [
       "[Row(VendorID=2, lpep_pickup_datetime=datetime.datetime(2020, 1, 11, 5, 5, 54), lpep_dropoff_datetime=datetime.datetime(2020, 1, 11, 5, 13, 49), store_and_fwd_flag='N', RatecodeID=1.0, PULocationID=129, DOLocationID=129, passenger_count=1.0, trip_distance=0.81, fare_amount=6.5, extra=0.5, mta_tax=0.5, tip_amount=0.71, tolls_amount=0.0, ehail_fee=None, improvement_surcharge=0.3, total_amount=8.51, payment_type=1.0, trip_type=1.0, congestion_surcharge=0.0),\n",
       " Row(VendorID=2, lpep_pickup_datetime=datetime.datetime(2020, 1, 17, 20, 33, 5), lpep_dropoff_datetime=datetime.datetime(2020, 1, 17, 20, 51, 8), store_and_fwd_flag='N', RatecodeID=1.0, PULocationID=75, DOLocationID=42, passenger_count=3.0, trip_distance=2.69, fare_amount=13.5, extra=1.0, mta_tax=0.5, tip_amount=3.06, tolls_amount=0.0, ehail_fee=None, improvement_surcharge=0.3, total_amount=18.36, payment_type=1.0, trip_type=1.0, congestion_surcharge=0.0),\n",
       " Row(VendorID=2, lpep_pickup_datetime=datetime.datetime(2020, 1, 30, 13, 41), lpep_dropoff_datetime=datetime.datetime(2020, 1, 30, 14, 30), store_and_fwd_flag=None, RatecodeID=None, PULocationID=117, DOLocationID=188, passenger_count=None, trip_distance=13.11, fare_amount=38.57, extra=2.75, mta_tax=0.0, tip_amount=0.0, tolls_amount=2.29, ehail_fee=None, improvement_surcharge=0.3, total_amount=43.91, payment_type=None, trip_type=None, congestion_surcharge=None)]"
      ]
     },
     "execution_count": 5,
     "metadata": {},
     "output_type": "execute_result"
    }
   ],
   "source": [
    "df_green.take(3)"
   ]
  },
  {
   "cell_type": "code",
   "execution_count": 6,
   "id": "d2ca8091-4a94-47ce-abd8-d022e141996b",
   "metadata": {},
   "outputs": [],
   "source": [
    "rdd = df_green \\\n",
    "    .select('lpep_pickup_datetime', 'PULocationID', 'total_amount') \\\n",
    "    .rdd"
   ]
  },
  {
   "cell_type": "code",
   "execution_count": 7,
   "id": "c43b8f29-3a63-4a57-ba1a-95e2f0b0ac0c",
   "metadata": {},
   "outputs": [
    {
     "name": "stderr",
     "output_type": "stream",
     "text": [
      "                                                                                \r"
     ]
    },
    {
     "data": {
      "text/plain": [
       "[Row(lpep_pickup_datetime=datetime.datetime(2020, 1, 11, 5, 5, 54), PULocationID=129, total_amount=8.51),\n",
       " Row(lpep_pickup_datetime=datetime.datetime(2020, 1, 17, 20, 33, 5), PULocationID=75, total_amount=18.36),\n",
       " Row(lpep_pickup_datetime=datetime.datetime(2020, 1, 30, 13, 41), PULocationID=117, total_amount=43.91),\n",
       " Row(lpep_pickup_datetime=datetime.datetime(2020, 1, 11, 22, 25, 44), PULocationID=41, total_amount=12.3),\n",
       " Row(lpep_pickup_datetime=datetime.datetime(2020, 1, 4, 22, 45, 19), PULocationID=129, total_amount=7.8)]"
      ]
     },
     "execution_count": 7,
     "metadata": {},
     "output_type": "execute_result"
    }
   ],
   "source": [
    "rdd.take(5)"
   ]
  },
  {
   "cell_type": "code",
   "execution_count": 9,
   "id": "6d7437b5-e8ab-4630-a9bd-2f05a516cfa6",
   "metadata": {},
   "outputs": [],
   "source": [
    "from datetime import datetime"
   ]
  },
  {
   "cell_type": "code",
   "execution_count": 13,
   "id": "598f2080-59fe-4887-a842-86a4d30796cb",
   "metadata": {},
   "outputs": [],
   "source": [
    "start = datetime(year=2020, month=1, day=1)\n",
    "\n",
    "def filter_outliers(row):\n",
    "    return row.lpep_pickup_datetime >= start"
   ]
  },
  {
   "cell_type": "code",
   "execution_count": 15,
   "id": "567a43e8-99cd-4a3a-8dce-d92d3e07784c",
   "metadata": {},
   "outputs": [
    {
     "data": {
      "text/plain": [
       "PythonRDD[23] at RDD at PythonRDD.scala:53"
      ]
     },
     "execution_count": 15,
     "metadata": {},
     "output_type": "execute_result"
    }
   ],
   "source": [
    "rdd \\\n",
    "    .filter(filter_outliers) \\\n",
    "    .map(lambda row: row.lpep_pickup_datetime)\n"
   ]
  },
  {
   "cell_type": "code",
   "execution_count": 17,
   "id": "00d85662-b6e7-4fa2-b499-d05232c05045",
   "metadata": {},
   "outputs": [],
   "source": [
    "rows = rdd.take(10)\n",
    "row = rows[0]"
   ]
  },
  {
   "cell_type": "code",
   "execution_count": 18,
   "id": "ff3ce962-8e83-4215-94c4-edb7b4601045",
   "metadata": {},
   "outputs": [
    {
     "data": {
      "text/plain": [
       "Row(lpep_pickup_datetime=datetime.datetime(2020, 1, 11, 5, 5, 54), PULocationID=129, total_amount=8.51)"
      ]
     },
     "execution_count": 18,
     "metadata": {},
     "output_type": "execute_result"
    }
   ],
   "source": [
    "row"
   ]
  },
  {
   "cell_type": "code",
   "execution_count": 19,
   "id": "ede49d1e-e5b9-4c1e-8583-c8e102d93d96",
   "metadata": {},
   "outputs": [],
   "source": [
    "def prepare_for_grouping(row): \n",
    "    hour = row.lpep_pickup_datetime.replace(minute=0, second=0, microsecond=0)\n",
    "    zone = row.PULocationID\n",
    "    key = (hour, zone)\n",
    "    \n",
    "    amount = row.total_amount\n",
    "    count = 1\n",
    "    value = (amount, count)\n",
    "\n",
    "    return (key, value)"
   ]
  },
  {
   "cell_type": "code",
   "execution_count": 20,
   "id": "bebb47a0-df73-4dfa-abc6-3d7445dbaa44",
   "metadata": {},
   "outputs": [
    {
     "data": {
      "text/plain": [
       "[((datetime.datetime(2020, 1, 11, 5, 0), 129), (8.51, 1)),\n",
       " ((datetime.datetime(2020, 1, 17, 20, 0), 75), (18.36, 1)),\n",
       " ((datetime.datetime(2020, 1, 30, 13, 0), 117), (43.91, 1)),\n",
       " ((datetime.datetime(2020, 1, 11, 22, 0), 41), (12.3, 1)),\n",
       " ((datetime.datetime(2020, 1, 4, 22, 0), 129), (7.8, 1)),\n",
       " ((datetime.datetime(2020, 1, 15, 20, 0), 75), (8.76, 1)),\n",
       " ((datetime.datetime(2020, 1, 11, 1, 0), 66), (16.26, 1)),\n",
       " ((datetime.datetime(2020, 1, 16, 15, 0), 129), (6.8, 1)),\n",
       " ((datetime.datetime(2020, 1, 1, 20, 0), 41), (11.8, 1)),\n",
       " ((datetime.datetime(2020, 1, 21, 7, 0), 37), (34.04, 1))]"
      ]
     },
     "execution_count": 20,
     "metadata": {},
     "output_type": "execute_result"
    }
   ],
   "source": [
    "rdd \\\n",
    "    .filter(filter_outliers) \\\n",
    "    .map(prepare_for_grouping) \\\n",
    "    .take(10)"
   ]
  },
  {
   "cell_type": "code",
   "execution_count": null,
   "id": "e3c4e8ff-6bcf-4837-b97a-a5ebb41a7e82",
   "metadata": {},
   "outputs": [],
   "source": [
    "def calculate_revenue(left_value, right_value):\n",
    "    left_amount, left_count = left_value\n",
    "    right_amount, right_count = right_value\n",
    "    \n",
    "    output_amount = left_amount + right_amount\n",
    "    output_count = left_count + right_count\n",
    "    \n",
    "    return (output_amount, output_count)"
   ]
  }
 ],
 "metadata": {
  "kernelspec": {
   "display_name": "Python 3 (ipykernel)",
   "language": "python",
   "name": "python3"
  },
  "language_info": {
   "codemirror_mode": {
    "name": "ipython",
    "version": 3
   },
   "file_extension": ".py",
   "mimetype": "text/x-python",
   "name": "python",
   "nbconvert_exporter": "python",
   "pygments_lexer": "ipython3",
   "version": "3.10.12"
  }
 },
 "nbformat": 4,
 "nbformat_minor": 5
}
